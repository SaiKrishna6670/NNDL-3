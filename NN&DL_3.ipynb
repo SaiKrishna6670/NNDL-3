{
  "nbformat": 4,
  "nbformat_minor": 0,
  "metadata": {
    "colab": {
      "provenance": []
    },
    "kernelspec": {
      "name": "python3",
      "display_name": "Python 3"
    },
    "language_info": {
      "name": "python"
    }
  },
  "cells": [
    {
      "cell_type": "code",
      "source": [
        "# Q 1\n",
        "\n",
        "class Employee:\n",
        "    # DATA MEMBER TO COUNT THE NUMBER OF EMPLOYEES\n",
        "    empCount = 0\n",
        "\n",
        "    # CONSTRUCTOR TO INITIALIZE NAME, FAMILY, SALARY, DEPARTMENT\n",
        "    def __init__(self, name, family, salary, department):\n",
        "        self.name = name\n",
        "        self.family = family\n",
        "        self.salary = salary\n",
        "        self.department = department\n",
        "        Employee.empCount += 1    # EMPLOYEE COUNT\n",
        "\n",
        "    # FUNCTION FOR AVERAGE SALARY OF EMPLOYEE\n",
        "    def avg_salary(self):\n",
        "        total_salary = 0\n",
        "        total_salary += float(self.salary)\n",
        "        avg = total_salary / Employee.empCount\n",
        "        print('Average salary of the Employee:', avg)\n",
        "\n",
        "    # TO DISPLAY DETAILS OF EMPLOYEE\n",
        "    def display(self):\n",
        "        print('Employee Name:', self.name)\n",
        "        print('Family Members:', self.family)\n",
        "        print('Employee Annual Salary:', self.salary)\n",
        "        print('Department:', self.department)\n",
        "        print(\"==========\")\n",
        "\n",
        "# INHERITING - EMPLOYEE CLASS\n",
        "class Fulltime_Employee(Employee):\n",
        "    def __init__(self, name, family, salary, department, emp_type):\n",
        "        Employee.__init__(self, name, family, salary, department)\n",
        "        self.emp_type = emp_type\n",
        "\n",
        "    #FUNCTION TO DISPLAY EMPLOYEE DETAILS\n",
        "    def display(self):\n",
        "        print(\"Employee Name :\", self.name)\n",
        "        print('Family Members:', self.family)\n",
        "        print('Employee Annual Salary:', self.salary)\n",
        "        print('Department:', self.department)\n",
        "        print('Type of Employment :', self.emp_type)\n",
        "        print(\"==========\")\n",
        "\n",
        "\n",
        "# INSTANCES FOR EMPLOYEE CLASS\n",
        "emp1 = Employee('Sai Krishna', '4', '125000', 'Cloud Engineer')\n",
        "# INSTANCE FOR FULL TIME EMPLOYEE\n",
        "emp2 = Fulltime_Employee('Meenakshi', '3', '110000', 'DevOps Engineer', 'Fulltime')\n",
        "emp3 = Fulltime_Employee('Srinivas', '4', '85000', 'System Engineer', 'Fulltime')\n",
        "emp4 = Fulltime_Employee('Aravind', '2', '78000', 'Network Engineer', 'Fulltime')\n",
        "\n",
        "print(\"Count of the Employees :\", emp1.empCount)\n",
        "emp1.avg_salary()\n",
        "emp1.display()\n",
        "emp2.display()\n",
        "emp3.display()\n",
        "emp4.display()"
      ],
      "metadata": {
        "colab": {
          "base_uri": "https://localhost:8080/"
        },
        "id": "yiOPg-IqvSd_",
        "outputId": "d1178e77-b324-4aea-fdd0-b7712ecb0540"
      },
      "execution_count": 3,
      "outputs": [
        {
          "output_type": "stream",
          "name": "stdout",
          "text": [
            "Count of the Employees : 4\n",
            "Average salary of the Employee: 31250.0\n",
            "Employee Name: Sai Krishna\n",
            "Family Members: 4\n",
            "Employee Annual Salary: 125000\n",
            "Department: Cloud Engineer\n",
            "==========\n",
            "Employee Name : Meenakshi\n",
            "Family Members: 3\n",
            "Employee Annual Salary: 110000\n",
            "Department: DevOps Engineer\n",
            "Type of Employment : Fulltime\n",
            "==========\n",
            "Employee Name : Srinivas\n",
            "Family Members: 4\n",
            "Employee Annual Salary: 85000\n",
            "Department: System Engineer\n",
            "Type of Employment : Fulltime\n",
            "==========\n",
            "Employee Name : Aravind\n",
            "Family Members: 2\n",
            "Employee Annual Salary: 78000\n",
            "Department: Network Engineer\n",
            "Type of Employment : Fulltime\n",
            "==========\n"
          ]
        }
      ]
    },
    {
      "cell_type": "code",
      "source": [
        "# Q 2\n",
        "\n",
        "import numpy as np\n",
        "\n",
        "# creating array of size 0\n",
        "random_vector = np.random.uniform(1, 20, 20)\n",
        "print(\"Random Vector : \\n\", random_vector)\n",
        "\n",
        "# reshape the array to 4 by 5\n",
        "random_vector = random_vector.reshape(4,5)\n",
        "print(\"after reshaping (4 by 5): \\n\", random_vector)\n",
        "\n",
        "# replace the max in each row\n",
        "random_vector[np.arange(len(random_vector)), random_vector.argmax(1)] = 0\n",
        "print(\"Replacing the max in each row : \\n\", random_vector)"
      ],
      "metadata": {
        "colab": {
          "base_uri": "https://localhost:8080/"
        },
        "id": "-5A3shkUvdhF",
        "outputId": "022a5157-b4e3-4471-dd83-ece26d58beee"
      },
      "execution_count": 4,
      "outputs": [
        {
          "output_type": "stream",
          "name": "stdout",
          "text": [
            "Random Vector : \n",
            " [13.53124664  2.80993511  4.00223404 10.4607186   7.97971132  5.46821638\n",
            "  8.98242681  5.24010318  5.25130758 17.5374968  19.22423966  7.20079143\n",
            "  5.23673144 11.77874698  3.71563622  9.5957736   3.8471386   7.41228435\n",
            " 17.84537128 18.06485795]\n",
            "after reshaping (4 by 5): \n",
            " [[13.53124664  2.80993511  4.00223404 10.4607186   7.97971132]\n",
            " [ 5.46821638  8.98242681  5.24010318  5.25130758 17.5374968 ]\n",
            " [19.22423966  7.20079143  5.23673144 11.77874698  3.71563622]\n",
            " [ 9.5957736   3.8471386   7.41228435 17.84537128 18.06485795]]\n",
            "Replacing the max in each row : \n",
            " [[ 0.          2.80993511  4.00223404 10.4607186   7.97971132]\n",
            " [ 5.46821638  8.98242681  5.24010318  5.25130758  0.        ]\n",
            " [ 0.          7.20079143  5.23673144 11.77874698  3.71563622]\n",
            " [ 9.5957736   3.8471386   7.41228435 17.84537128  0.        ]]\n"
          ]
        }
      ]
    }
  ]
}